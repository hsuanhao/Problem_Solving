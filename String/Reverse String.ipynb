{
 "cells": [
  {
   "cell_type": "markdown",
   "metadata": {},
   "source": [
    "# 344. Reverse String\n",
    "\n",
    "Write a function that takes a string as input and returns the string reversed.\n",
    "\n",
    "**Example 1:**\n",
    "```\n",
    "Input: \"hello\"\n",
    "Output: \"olleh\"\n",
    "```\n",
    "**Example 2:**\n",
    "```\n",
    "Input: \"A man, a plan, a canal: Panama\"\n",
    "Output: \"amanaP :lanac a ,nalp a ,nam A\"\n",
    "```\n"
   ]
  },
  {
   "cell_type": "code",
   "execution_count": 1,
   "metadata": {},
   "outputs": [],
   "source": [
    "class Solution:\n",
    "    def reverseString(self, s):\n",
    "        \"\"\"\n",
    "        :type s: str\n",
    "        :rtype: str\n",
    "        \"\"\"\n",
    "        reverse = str()\n",
    "        for i in range(len(s)-1,-1,-1):\n",
    "            reverse += s[i]\n",
    "        return reverse"
   ]
  },
  {
   "cell_type": "code",
   "execution_count": 2,
   "metadata": {},
   "outputs": [
    {
     "data": {
      "text/plain": [
       "'olleh'"
      ]
     },
     "execution_count": 2,
     "metadata": {},
     "output_type": "execute_result"
    }
   ],
   "source": [
    "Sol = Solution()\n",
    "\n",
    "# Test 1\n",
    "s1 = \"hello\"\n",
    "Sol.reverseString(s1)"
   ]
  },
  {
   "cell_type": "code",
   "execution_count": 3,
   "metadata": {},
   "outputs": [
    {
     "data": {
      "text/plain": [
       "'amanaP :lanac a ,nalp a ,nam A'"
      ]
     },
     "execution_count": 3,
     "metadata": {},
     "output_type": "execute_result"
    }
   ],
   "source": [
    "# Test 2 \n",
    "s2 = \"A man, a plan, a canal: Panama\"\n",
    "Sol.reverseString(s2)"
   ]
  },
  {
   "cell_type": "code",
   "execution_count": null,
   "metadata": {},
   "outputs": [],
   "source": []
  }
 ],
 "metadata": {
  "kernelspec": {
   "display_name": "Python 3",
   "language": "python",
   "name": "python3"
  },
  "language_info": {
   "codemirror_mode": {
    "name": "ipython",
    "version": 3
   },
   "file_extension": ".py",
   "mimetype": "text/x-python",
   "name": "python",
   "nbconvert_exporter": "python",
   "pygments_lexer": "ipython3",
   "version": "3.6.7"
  }
 },
 "nbformat": 4,
 "nbformat_minor": 2
}
