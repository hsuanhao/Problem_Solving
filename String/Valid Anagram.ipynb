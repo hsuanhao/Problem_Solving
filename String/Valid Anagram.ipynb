{
 "cells": [
  {
   "cell_type": "markdown",
   "metadata": {},
   "source": [
    "# Valid Anagram\n",
    "\n",
    "Given two strings s and t , write a function to determine if t is an anagram of s.\n",
    "\n",
    "**Example 1:**\n",
    "```\n",
    "Input: s = \"anagram\", t = \"nagaram\"\n",
    "Output: true\n",
    "```\n",
    "**Example 2:**\n",
    "```\n",
    "Input: s = \"rat\", t = \"car\"\n",
    "Output: false\n",
    "```\n",
    "**Note:**\n",
    "You may assume the string contains only lowercase alphabets.\n",
    "\n",
    "**Follow up:**\n",
    "What if the inputs contain unicode characters? How would you adapt your solution to such case?\n",
    "\n",
    "In Python 3, strings are represented in Unicode so there's no problem.\n"
   ]
  },
  {
   "cell_type": "code",
   "execution_count": 1,
   "metadata": {},
   "outputs": [],
   "source": [
    "class Solution:\n",
    "    def isAnagram(self, s, t):\n",
    "        \"\"\"\n",
    "        :type s: str\n",
    "        :type t: str\n",
    "        :rtype: bool\n",
    "        \"\"\"\n",
    "        s_dict = dict()\n",
    "        t_dict = dict()\n",
    "        \n",
    "        # Check situation when at least one string is empty\n",
    "        if len(s)==0 and len(t)==0:\n",
    "            return True\n",
    "        elif len(s)==0 and len(t)!=0:\n",
    "            return False\n",
    "        elif len(s)!=0 and len(t)==0:\n",
    "            return False\n",
    "        \n",
    "        # Check situation when both strings are not empty.\n",
    "        for letter in s:\n",
    "            s_dict[letter] = s_dict.get(letter, 0) + 1\n",
    "        \n",
    "        for letter in t:\n",
    "            t_dict[letter] = t_dict.get(letter, 0) + 1\n",
    "        \n",
    "        # Check whether two dictionaries have same amount of keys\n",
    "        if len(t_dict) != len(s_dict): return False\n",
    "        \n",
    "        \n",
    "        for key, value in s_dict.items():\n",
    "            if key not in t_dict:\n",
    "                return False\n",
    "            elif (t_dict[key] != value): \n",
    "                return False\n",
    "        \n",
    "        return True"
   ]
  },
  {
   "cell_type": "code",
   "execution_count": 2,
   "metadata": {},
   "outputs": [],
   "source": [
    "Sol = Solution()"
   ]
  },
  {
   "cell_type": "code",
   "execution_count": 3,
   "metadata": {},
   "outputs": [
    {
     "data": {
      "text/plain": [
       "True"
      ]
     },
     "execution_count": 3,
     "metadata": {},
     "output_type": "execute_result"
    }
   ],
   "source": [
    "# Test 1 \n",
    "s1 = \"\"\n",
    "t1 = \"\"\n",
    "Sol.isAnagram(s1,t1)"
   ]
  },
  {
   "cell_type": "code",
   "execution_count": 4,
   "metadata": {},
   "outputs": [
    {
     "data": {
      "text/plain": [
       "False"
      ]
     },
     "execution_count": 4,
     "metadata": {},
     "output_type": "execute_result"
    }
   ],
   "source": [
    "# Test 2\n",
    "s2 = \"a\"\n",
    "t2 = \"ab\"\n",
    "Sol.isAnagram(s2,t2)"
   ]
  },
  {
   "cell_type": "code",
   "execution_count": 5,
   "metadata": {},
   "outputs": [
    {
     "data": {
      "text/plain": [
       "True"
      ]
     },
     "execution_count": 5,
     "metadata": {},
     "output_type": "execute_result"
    }
   ],
   "source": [
    "# Test 3\n",
    "s3 = \"anagram\"\n",
    "t3 = \"nagaram\"\n",
    "Sol.isAnagram(s3, t3)"
   ]
  },
  {
   "cell_type": "code",
   "execution_count": 6,
   "metadata": {},
   "outputs": [
    {
     "data": {
      "text/plain": [
       "False"
      ]
     },
     "execution_count": 6,
     "metadata": {},
     "output_type": "execute_result"
    }
   ],
   "source": [
    "# Test 4\n",
    "s4 = \"rat\" \n",
    "t4 = \"car\"\n",
    "Sol.isAnagram(s4,t4)"
   ]
  },
  {
   "cell_type": "code",
   "execution_count": null,
   "metadata": {},
   "outputs": [],
   "source": []
  }
 ],
 "metadata": {
  "kernelspec": {
   "display_name": "Python 3",
   "language": "python",
   "name": "python3"
  },
  "language_info": {
   "codemirror_mode": {
    "name": "ipython",
    "version": 3
   },
   "file_extension": ".py",
   "mimetype": "text/x-python",
   "name": "python",
   "nbconvert_exporter": "python",
   "pygments_lexer": "ipython3",
   "version": "3.6.7"
  }
 },
 "nbformat": 4,
 "nbformat_minor": 2
}
