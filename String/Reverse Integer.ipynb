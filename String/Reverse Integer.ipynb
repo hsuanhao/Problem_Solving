{
 "cells": [
  {
   "cell_type": "markdown",
   "metadata": {},
   "source": [
    "# Reverse Integer\n",
    "\n",
    "Given a 32-bit signed integer, reverse digits of an integer.\n",
    "\n",
    "**Example 1:**\n",
    "```\n",
    "Input: 123\n",
    "Output: 321\n",
    "```\n",
    "**Example 2:**\n",
    "```\n",
    "Input: -123\n",
    "Output: -321\n",
    "```\n",
    "**Example 3:**\n",
    "```\n",
    "Input: 120\n",
    "Output: 21\n",
    "```\n",
    "**Note:**\n",
    "Assume we are dealing with an environment which could only store integers within the 32-bit signed integer range: $[−2^{31},  2^{31} − 1]$. For the purpose of this problem, assume that your function returns 0 when the reversed integer overflows.\n",
    "\n",
    "Since 1 bit in 32 bits is for the sign of integer, there are 31 bits to express integers. Thus, the lower bound of the 32-bit signed interger is $-2^{31}$, and the upper bound of the 32-bit signed interger is $2^{31}-1$. Here \"-1\" is because of the assignment to 0.\n"
   ]
  },
  {
   "cell_type": "code",
   "execution_count": 1,
   "metadata": {},
   "outputs": [],
   "source": [
    "class Solution:\n",
    "    def reverse(self, x):\n",
    "        \"\"\"\n",
    "        :type x: int\n",
    "        :rtype: int\n",
    "        \"\"\"\n",
    "        num = str(x)\n",
    "        result = \"\"\n",
    "        if (num[0] == \"-\"):\n",
    "            # If integer is negative \n",
    "            result += \"-\"\n",
    "            for i in range(len(num)-1, 0, -1):\n",
    "                result += num[i]\n",
    "            reverse_num = int(result)\n",
    "            return 0 if reverse_num < -2**31-1 else reverse_num\n",
    "        else:\n",
    "            # If integer is positive or 0\n",
    "            for i in range(len(num)-1, -1, -1):\n",
    "                result += num[i]\n",
    "            reverse_num = int(result)\n",
    "            return 0 if reverse_num > 2**31-1 else reverse_num\n",
    "        "
   ]
  },
  {
   "cell_type": "code",
   "execution_count": 2,
   "metadata": {},
   "outputs": [],
   "source": [
    "Sol = Solution()"
   ]
  },
  {
   "cell_type": "code",
   "execution_count": 3,
   "metadata": {},
   "outputs": [
    {
     "data": {
      "text/plain": [
       "321"
      ]
     },
     "execution_count": 3,
     "metadata": {},
     "output_type": "execute_result"
    }
   ],
   "source": [
    "# Test 1\n",
    "num1 = 123\n",
    "Sol.reverse(num1)"
   ]
  },
  {
   "cell_type": "code",
   "execution_count": 4,
   "metadata": {},
   "outputs": [
    {
     "data": {
      "text/plain": [
       "-321"
      ]
     },
     "execution_count": 4,
     "metadata": {},
     "output_type": "execute_result"
    }
   ],
   "source": [
    "# Test 2\n",
    "num2 = -123\n",
    "Sol.reverse(num2)"
   ]
  },
  {
   "cell_type": "code",
   "execution_count": 5,
   "metadata": {},
   "outputs": [
    {
     "data": {
      "text/plain": [
       "21"
      ]
     },
     "execution_count": 5,
     "metadata": {},
     "output_type": "execute_result"
    }
   ],
   "source": [
    "# Test 3\n",
    "num3 = 120\n",
    "Sol.reverse(num3)"
   ]
  },
  {
   "cell_type": "code",
   "execution_count": 6,
   "metadata": {},
   "outputs": [
    {
     "data": {
      "text/plain": [
       "0"
      ]
     },
     "execution_count": 6,
     "metadata": {},
     "output_type": "execute_result"
    }
   ],
   "source": [
    "# Test 4\n",
    "num4 = 2**32\n",
    "Sol.reverse(num4)"
   ]
  },
  {
   "cell_type": "code",
   "execution_count": null,
   "metadata": {},
   "outputs": [],
   "source": []
  }
 ],
 "metadata": {
  "kernelspec": {
   "display_name": "Python 3",
   "language": "python",
   "name": "python3"
  },
  "language_info": {
   "codemirror_mode": {
    "name": "ipython",
    "version": 3
   },
   "file_extension": ".py",
   "mimetype": "text/x-python",
   "name": "python",
   "nbconvert_exporter": "python",
   "pygments_lexer": "ipython3",
   "version": "3.6.7"
  }
 },
 "nbformat": 4,
 "nbformat_minor": 2
}
