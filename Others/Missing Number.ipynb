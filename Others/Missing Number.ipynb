{
 "cells": [
  {
   "cell_type": "markdown",
   "metadata": {},
   "source": [
    "# Missing Number\n",
    "\n",
    "Given an array containing n distinct numbers taken from `0, 1, 2, ..., n`, find the one that is missing from the array.\n",
    "\n",
    "**Example 1:**\n",
    "```\n",
    "Input: [3,0,1]\n",
    "Output: 2\n",
    "```\n",
    "**Example 2:**\n",
    "```\n",
    "Input: [9,6,4,2,3,5,7,0,1]\n",
    "Output: 8\n",
    "```\n"
   ]
  },
  {
   "cell_type": "code",
   "execution_count": 1,
   "metadata": {},
   "outputs": [],
   "source": [
    "class Solution:\n",
    "    def missingNumber(self, nums):\n",
    "        \"\"\"\n",
    "        :type nums: List[int]\n",
    "        :rtype: int\n",
    "        \"\"\"\n",
    "        n = len(nums) \n",
    "        missing = int(n*(n+1)/2) - sum(nums)\n",
    "        return missing"
   ]
  },
  {
   "cell_type": "markdown",
   "metadata": {},
   "source": [
    "Since the summation of the series, `0, 1, 2, ..., n` is given by\n",
    "$$ 0 + 1 + \\cdots + n = \\frac{n*(n+1)}{2},$$\n",
    "if there is a missing number in the series, then one can find out the missing number by\n",
    "$$ \\text{missing number} = \\frac{n*(n+1)}{2} - \\text{part sum},$$\n",
    "where part sum is the summation of the series with one missing number."
   ]
  },
  {
   "cell_type": "code",
   "execution_count": 2,
   "metadata": {},
   "outputs": [],
   "source": [
    "Sol = Solution()"
   ]
  },
  {
   "cell_type": "code",
   "execution_count": 3,
   "metadata": {},
   "outputs": [
    {
     "data": {
      "text/plain": [
       "2"
      ]
     },
     "execution_count": 3,
     "metadata": {},
     "output_type": "execute_result"
    }
   ],
   "source": [
    "# Test 1\n",
    "nums1 = [3,0,1]\n",
    "Sol.missingNumber(nums1)"
   ]
  },
  {
   "cell_type": "code",
   "execution_count": 4,
   "metadata": {},
   "outputs": [
    {
     "data": {
      "text/plain": [
       "8"
      ]
     },
     "execution_count": 4,
     "metadata": {},
     "output_type": "execute_result"
    }
   ],
   "source": [
    "# Test 2\n",
    "nums2 = [9,6,4,2,3,5,7,0,1]\n",
    "Sol.missingNumber(nums2)"
   ]
  },
  {
   "cell_type": "code",
   "execution_count": null,
   "metadata": {},
   "outputs": [],
   "source": []
  }
 ],
 "metadata": {
  "kernelspec": {
   "display_name": "Python 3",
   "language": "python",
   "name": "python3"
  },
  "language_info": {
   "codemirror_mode": {
    "name": "ipython",
    "version": 3
   },
   "file_extension": ".py",
   "mimetype": "text/x-python",
   "name": "python",
   "nbconvert_exporter": "python",
   "pygments_lexer": "ipython3",
   "version": "3.6.4"
  }
 },
 "nbformat": 4,
 "nbformat_minor": 2
}
