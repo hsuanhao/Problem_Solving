{
 "cells": [
  {
   "cell_type": "markdown",
   "metadata": {
    "collapsed": true
   },
   "source": [
    "# Two Sum\n",
    "\n",
    "Given an array of integers, return **indices** of the two numbers such that they add up to a specific target.\n",
    "\n",
    "You may assume that each input would have **exactly** one solution, and you may not use the same element twice.\n",
    "\n",
    "\n",
    "**Example:**\n",
    "\n",
    "```python\n",
    "Given nums = [2, 7, 11, 15], target = 9,\n",
    "\n",
    "Because nums[0] + nums[1] = 2 + 7 = 9,\n",
    "return [0, 1].\n",
    "```"
   ]
  },
  {
   "cell_type": "code",
   "execution_count": 79,
   "metadata": {},
   "outputs": [],
   "source": [
    "class Solution:\n",
    "    def twoSum_naive(self, nums, target):\n",
    "        \"\"\"\n",
    "        Naive Solution\n",
    "        \n",
    "        Parameters\n",
    "        ----------\n",
    "        nums: list of integers\n",
    "        target: int\n",
    "        \n",
    "        Return\n",
    "        ------\n",
    "        lst_two_sum: list of integers, \n",
    "                     which are indices of the two numbers such that they add up to a target value\n",
    "        \"\"\"\n",
    "\n",
    "        # number of integers\n",
    "        n = len(nums)\n",
    "        print(\"Number of integers to test = {}\".format(n))\n",
    "        \n",
    "               \n",
    "        for i in range(n-1):\n",
    "            for j in range(i+1,n):\n",
    "            \n",
    "                if (nums[i] + nums[j] == target): \n",
    "                    return [i, j]\n",
    "        \n",
    "    \n",
    "    def twoSum_linear(self, nums, target):\n",
    "        \"\"\"\n",
    "        Faster solution with O(N)\n",
    "        \n",
    "        Parameters\n",
    "        ----------\n",
    "        nums: list of integers\n",
    "        target: int\n",
    "        \n",
    "        Return\n",
    "        ------\n",
    "        lst_two_sum: list of integers, \n",
    "                     which are indices of the two numbers such that they add up to a target value\n",
    "        \"\"\"\n",
    "        \n",
    "        # The dictionary to record number (key) and index (value) for two sum\n",
    "        lookup = {}\n",
    "        for index, num in enumerate(nums):\n",
    "            if (target - num in lookup):\n",
    "                return [lookup[target-num], index]\n",
    "            lookup[num] = index            "
   ]
  },
  {
   "cell_type": "markdown",
   "metadata": {},
   "source": [
    "# 1. Naive solution\n",
    "\n",
    "A naive solution, `twoSum_naive`, to this problem would be to loop through each number and then loop again through the array looking for a pair that sums to target. The running time for the below solution would be ${\\cal O}(N^2)$ because in the worst case we are looping through the array twice to find a pair. Space complexity is ${\\cal O}(1)$."
   ]
  },
  {
   "cell_type": "code",
   "execution_count": 80,
   "metadata": {},
   "outputs": [],
   "source": [
    "# Test case 1\n",
    "nums_1 = [2,7,11,15]\n",
    "target_1 = 9"
   ]
  },
  {
   "cell_type": "code",
   "execution_count": 81,
   "metadata": {},
   "outputs": [],
   "source": [
    "sol = Solution()"
   ]
  },
  {
   "cell_type": "code",
   "execution_count": 82,
   "metadata": {},
   "outputs": [
    {
     "name": "stdout",
     "output_type": "stream",
     "text": [
      "Number of integers to test = 4\n"
     ]
    },
    {
     "data": {
      "text/plain": [
       "[0, 1]"
      ]
     },
     "execution_count": 82,
     "metadata": {},
     "output_type": "execute_result"
    }
   ],
   "source": [
    "sol.twoSum_naive(nums_1, target_1)"
   ]
  },
  {
   "cell_type": "code",
   "execution_count": 83,
   "metadata": {},
   "outputs": [],
   "source": [
    "# Test case 2\n",
    "nums_2 = [-3,4,3,90]\n",
    "target_2 = 0"
   ]
  },
  {
   "cell_type": "code",
   "execution_count": 84,
   "metadata": {},
   "outputs": [],
   "source": [
    "sol2 = Solution()"
   ]
  },
  {
   "cell_type": "code",
   "execution_count": 85,
   "metadata": {},
   "outputs": [
    {
     "name": "stdout",
     "output_type": "stream",
     "text": [
      "Number of integers to test = 4\n"
     ]
    },
    {
     "data": {
      "text/plain": [
       "[0, 2]"
      ]
     },
     "execution_count": 85,
     "metadata": {},
     "output_type": "execute_result"
    }
   ],
   "source": [
    "sol2.twoSum_naive(nums_2,target_2)"
   ]
  },
  {
   "cell_type": "markdown",
   "metadata": {},
   "source": [
    "# 2. Faster solution\n",
    "\n",
    "A faster solution, `twoSum_linear`, to this problem will find pairs with summation to target in linear time, ${\\cal O}(N)$. We traverse the list containing $N$ elements only once. Each look up in the table costs only ${\\cal O}(1)$ time. The extra space required depends on the number of items stored in the hash table, which stores at most $N$ elements so space complexity is ${\\cal O}(N)$."
   ]
  },
  {
   "cell_type": "code",
   "execution_count": 86,
   "metadata": {},
   "outputs": [],
   "source": [
    "sol_linear = Solution()"
   ]
  },
  {
   "cell_type": "code",
   "execution_count": 87,
   "metadata": {},
   "outputs": [
    {
     "data": {
      "text/plain": [
       "[0, 1]"
      ]
     },
     "execution_count": 87,
     "metadata": {},
     "output_type": "execute_result"
    }
   ],
   "source": [
    "sol_linear.twoSum_linear(nums_1, target_1)"
   ]
  },
  {
   "cell_type": "code",
   "execution_count": 88,
   "metadata": {},
   "outputs": [],
   "source": [
    "sol2_linear = Solution()"
   ]
  },
  {
   "cell_type": "code",
   "execution_count": 89,
   "metadata": {},
   "outputs": [
    {
     "data": {
      "text/plain": [
       "[0, 2]"
      ]
     },
     "execution_count": 89,
     "metadata": {},
     "output_type": "execute_result"
    }
   ],
   "source": [
    "sol2.twoSum_linear(nums_2,target_2)"
   ]
  },
  {
   "cell_type": "code",
   "execution_count": null,
   "metadata": {},
   "outputs": [],
   "source": []
  },
  {
   "cell_type": "code",
   "execution_count": null,
   "metadata": {},
   "outputs": [],
   "source": []
  }
 ],
 "metadata": {
  "kernelspec": {
   "display_name": "Python 3.5",
   "language": "python",
   "name": "python3"
  },
  "language_info": {
   "codemirror_mode": {
    "name": "ipython",
    "version": 3
   },
   "file_extension": ".py",
   "mimetype": "text/x-python",
   "name": "python",
   "nbconvert_exporter": "python",
   "pygments_lexer": "ipython3",
   "version": "3.5.5"
  }
 },
 "nbformat": 4,
 "nbformat_minor": 1
}
