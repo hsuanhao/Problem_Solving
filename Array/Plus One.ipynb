{
 "cells": [
  {
   "cell_type": "markdown",
   "metadata": {},
   "source": [
    "# Plus One\n",
    "\n",
    "Given a **non-empty** array of digits representing a non-negative integer, plus one to the integer.\n",
    "\n",
    "The digits are stored such that the most significant digit is at the head of the list, and each element in the array contain a single digit.\n",
    "\n",
    "You may assume the integer does not contain any leading zero, except the number 0 itself."
   ]
  },
  {
   "cell_type": "markdown",
   "metadata": {},
   "source": [
    "**Example 1:**\n",
    "```\n",
    "Input: [1,2,3]\n",
    "Output: [1,2,4]\n",
    "Explanation: The array represents the integer 123.\n",
    "```\n",
    "\n",
    "**Example 2:**\n",
    "```\n",
    "Input: [4,3,2,1]\n",
    "Output: [4,3,2,2]\n",
    "Explanation: The array represents the integer 4321.\n",
    "```"
   ]
  },
  {
   "cell_type": "code",
   "execution_count": 1,
   "metadata": {},
   "outputs": [],
   "source": [
    "class Solution:\n",
    "    def plusOne(self, digits):\n",
    "        \"\"\"\n",
    "        Plus one to the integer\n",
    "        \n",
    "        Parameters\n",
    "        ----------\n",
    "        digits: List[int] list of digits representing a non-negative integer\n",
    "        \n",
    "        Return\n",
    "        ------\n",
    "        plus_one: List[int] list of digits representing a non-negative interger after adding one\n",
    "        \"\"\"\n",
    "        num_list = list(map(str, digits))\n",
    "        num = \"\".join(num_list)\n",
    "        num = int(num) + 1\n",
    "        plus_one = list(str(num))\n",
    "        return plus_one"
   ]
  },
  {
   "cell_type": "code",
   "execution_count": 2,
   "metadata": {},
   "outputs": [],
   "source": [
    "Sol = Solution()"
   ]
  },
  {
   "cell_type": "code",
   "execution_count": 3,
   "metadata": {},
   "outputs": [
    {
     "data": {
      "text/plain": [
       "['1', '2', '4']"
      ]
     },
     "execution_count": 3,
     "metadata": {},
     "output_type": "execute_result"
    }
   ],
   "source": [
    "# Test 1\n",
    "digits1 = [1,2,3]\n",
    "Sol.plusOne(digits1)"
   ]
  },
  {
   "cell_type": "code",
   "execution_count": 4,
   "metadata": {},
   "outputs": [
    {
     "data": {
      "text/plain": [
       "['1', '2', '3', '5']"
      ]
     },
     "execution_count": 4,
     "metadata": {},
     "output_type": "execute_result"
    }
   ],
   "source": [
    "# Test 2\n",
    "digits2 = [1,2,3,4]\n",
    "Sol.plusOne(digits2)"
   ]
  },
  {
   "cell_type": "code",
   "execution_count": 5,
   "metadata": {},
   "outputs": [
    {
     "data": {
      "text/plain": [
       "['1', '0', '0']"
      ]
     },
     "execution_count": 5,
     "metadata": {},
     "output_type": "execute_result"
    }
   ],
   "source": [
    "# Test 3 \n",
    "digits3 = [9,9]\n",
    "Sol.plusOne(digits3)"
   ]
  },
  {
   "cell_type": "code",
   "execution_count": null,
   "metadata": {},
   "outputs": [],
   "source": []
  }
 ],
 "metadata": {
  "kernelspec": {
   "display_name": "Python 3",
   "language": "python",
   "name": "python3"
  },
  "language_info": {
   "codemirror_mode": {
    "name": "ipython",
    "version": 3
   },
   "file_extension": ".py",
   "mimetype": "text/x-python",
   "name": "python",
   "nbconvert_exporter": "python",
   "pygments_lexer": "ipython3",
   "version": "3.6.4"
  }
 },
 "nbformat": 4,
 "nbformat_minor": 2
}
