{
 "cells": [
  {
   "cell_type": "markdown",
   "metadata": {},
   "source": [
    "# 283. Move Zeroes\n",
    "\n",
    "Given an array `nums`, write a function to move all `0`'s to the end of it while maintaining the relative order of the non-zero elements.\n",
    "\n",
    "**Example:**\n",
    "```\n",
    "Input: [0,1,0,3,12]\n",
    "Output: [1,3,12,0,0]\n",
    "```\n",
    "\n",
    "**Note:**\n",
    "1. You must do this **in-place** without making a copy of the array\n",
    "2. Minimize the total number of operations."
   ]
  },
  {
   "cell_type": "code",
   "execution_count": 1,
   "metadata": {},
   "outputs": [],
   "source": [
    "class Solution:\n",
    "    def moveZeroes(self, nums):\n",
    "        \"\"\"\n",
    "        Move zeros to the end\n",
    "        \n",
    "        Parameters\n",
    "        ----------\n",
    "        nums: List[int] list of integers\n",
    "        \n",
    "        Return\n",
    "        ------\n",
    "        move_zeroes: List[int] list of integers with all zeros in the end\n",
    "        \"\"\"\n",
    "\n",
    "        count = 0\n",
    "        n = len(nums)\n",
    "        # Move all non-zero integers to the beginning in order\n",
    "        for i in range(n):\n",
    "            if nums[i] == 0:\n",
    "                # Count number of zeros\n",
    "                count +=1\n",
    "            elif count == 0:\n",
    "                # Up to now, there's no zeros so it's not necessary to shift numbers\n",
    "                continue\n",
    "            else:\n",
    "                # Shift non-zero integers by counter, where counter is number of zeros\n",
    "                nums[i-count] = nums[i]\n",
    "                nums[i] = 0       "
   ]
  },
  {
   "cell_type": "markdown",
   "metadata": {},
   "source": [
    "The time complexity is ${\\cal O}(n)$, and the space complexity is ${\\cal O}(1)$."
   ]
  },
  {
   "cell_type": "code",
   "execution_count": 2,
   "metadata": {},
   "outputs": [],
   "source": [
    "Sol = Solution()"
   ]
  },
  {
   "cell_type": "code",
   "execution_count": 3,
   "metadata": {},
   "outputs": [
    {
     "name": "stdout",
     "output_type": "stream",
     "text": [
      "[1, 3, 12, 0, 0]\n"
     ]
    }
   ],
   "source": [
    "# Test1\n",
    "nums1 = [0,1,0,3,12]\n",
    "Sol.moveZeroes(nums1)\n",
    "print(nums1)"
   ]
  },
  {
   "cell_type": "code",
   "execution_count": 4,
   "metadata": {},
   "outputs": [
    {
     "name": "stdout",
     "output_type": "stream",
     "text": [
      "[1, 0, 0]\n"
     ]
    }
   ],
   "source": [
    "# Test2\n",
    "nums2 = [0,1,0]\n",
    "Sol.moveZeroes(nums2)\n",
    "print(nums2)"
   ]
  },
  {
   "cell_type": "code",
   "execution_count": 5,
   "metadata": {},
   "outputs": [
    {
     "name": "stdout",
     "output_type": "stream",
     "text": [
      "[1]\n"
     ]
    }
   ],
   "source": [
    "# Test3\n",
    "nums3 = [1]\n",
    "Sol.moveZeroes(nums3)\n",
    "print(nums3)"
   ]
  },
  {
   "cell_type": "code",
   "execution_count": null,
   "metadata": {},
   "outputs": [],
   "source": []
  }
 ],
 "metadata": {
  "kernelspec": {
   "display_name": "Python 3",
   "language": "python",
   "name": "python3"
  },
  "language_info": {
   "codemirror_mode": {
    "name": "ipython",
    "version": 3
   },
   "file_extension": ".py",
   "mimetype": "text/x-python",
   "name": "python",
   "nbconvert_exporter": "python",
   "pygments_lexer": "ipython3",
   "version": "3.6.7"
  }
 },
 "nbformat": 4,
 "nbformat_minor": 2
}
